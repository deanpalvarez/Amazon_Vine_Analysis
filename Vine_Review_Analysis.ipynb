{
  "nbformat": 4,
  "nbformat_minor": 0,
  "metadata": {
    "colab": {
      "name": "Vine_Review_Analysis.ipynb",
      "provenance": [],
      "collapsed_sections": []
    },
    "kernelspec": {
      "name": "python3",
      "display_name": "Python 3"
    },
    "language_info": {
      "name": "python"
    }
  },
  "cells": [
    {
      "cell_type": "code",
      "metadata": {
        "colab": {
          "base_uri": "https://localhost:8080/"
        },
        "id": "D_cNAzj4UZyH",
        "outputId": "8282b5b8-0109-4572-c768-38235ce46a1f"
      },
      "source": [
        "import os\n",
        "# Find the latest version of spark 2.0  from http://www-us.apache.org/dist/spark/ and enter as the spark version\n",
        "# For example:\n",
        "# spark_version = 'spark-3.0.0'\n",
        "spark_version = 'spark-3.1.2'\n",
        "os.environ['SPARK_VERSION']=spark_version\n",
        "\n",
        "# Install Spark and Java\n",
        "!apt-get update\n",
        "!apt-get install openjdk-11-jdk-headless -qq > /dev/null\n",
        "!wget -q http://www-us.apache.org/dist/spark/$SPARK_VERSION/$SPARK_VERSION-bin-hadoop2.7.tgz\n",
        "!tar xf $SPARK_VERSION-bin-hadoop2.7.tgz\n",
        "!pip install -q findspark\n",
        "\n",
        "# Set Environment Variables\n",
        "import os\n",
        "os.environ[\"JAVA_HOME\"] = \"/usr/lib/jvm/java-11-openjdk-amd64\"\n",
        "os.environ[\"SPARK_HOME\"] = f\"/content/{spark_version}-bin-hadoop2.7\"\n",
        "\n",
        "# Start a SparkSession\n",
        "import findspark\n",
        "findspark.init()"
      ],
      "execution_count": 1,
      "outputs": [
        {
          "output_type": "stream",
          "text": [
            "\r0% [Working]\r            \rGet:1 http://ppa.launchpad.net/c2d4u.team/c2d4u4.0+/ubuntu bionic InRelease [15.9 kB]\n",
            "\r0% [Waiting for headers] [Connecting to security.ubuntu.com] [Connected to clou\r                                                                               \rHit:2 http://archive.ubuntu.com/ubuntu bionic InRelease\n",
            "\r0% [Connecting to security.ubuntu.com] [Connected to cloud.r-project.org (13.22\r                                                                               \rGet:3 http://archive.ubuntu.com/ubuntu bionic-updates InRelease [88.7 kB]\n",
            "\r0% [3 InRelease 41.7 kB/88.7 kB 47%] [Connecting to security.ubuntu.com] [Waiti\r0% [2 InRelease gpgv 242 kB] [3 InRelease 47.5 kB/88.7 kB 54%] [Connecting to s\r                                                                               \rGet:4 https://cloud.r-project.org/bin/linux/ubuntu bionic-cran40/ InRelease [3,626 B]\n",
            "\r0% [2 InRelease gpgv 242 kB] [3 InRelease 72.1 kB/88.7 kB 81%] [Connecting to s\r0% [2 InRelease gpgv 242 kB] [3 InRelease 72.1 kB/88.7 kB 81%] [Connecting to s\r                                                                               \rHit:5 http://ppa.launchpad.net/cran/libgit2/ubuntu bionic InRelease\n",
            "\r0% [2 InRelease gpgv 242 kB] [3 InRelease 76.4 kB/88.7 kB 86%] [Connecting to s\r0% [2 InRelease gpgv 242 kB] [Waiting for headers] [Connecting to security.ubun\r                                                                               \rGet:6 http://archive.ubuntu.com/ubuntu bionic-backports InRelease [74.6 kB]\n",
            "\r0% [2 InRelease gpgv 242 kB] [6 InRelease 11.3 kB/74.6 kB 15%] [Connecting to s\r0% [2 InRelease gpgv 242 kB] [Connecting to security.ubuntu.com (91.189.91.38)]\r                                                                               \rGet:7 http://ppa.launchpad.net/deadsnakes/ppa/ubuntu bionic InRelease [15.9 kB]\n",
            "Get:8 http://ppa.launchpad.net/graphics-drivers/ppa/ubuntu bionic InRelease [21.3 kB]\n",
            "Ign:9 https://developer.download.nvidia.com/compute/cuda/repos/ubuntu1804/x86_64  InRelease\n",
            "Get:10 http://security.ubuntu.com/ubuntu bionic-security InRelease [88.7 kB]\n",
            "Ign:11 https://developer.download.nvidia.com/compute/machine-learning/repos/ubuntu1804/x86_64  InRelease\n",
            "Get:12 https://developer.download.nvidia.com/compute/cuda/repos/ubuntu1804/x86_64  Release [697 B]\n",
            "Hit:13 https://developer.download.nvidia.com/compute/machine-learning/repos/ubuntu1804/x86_64  Release\n",
            "Get:14 https://developer.download.nvidia.com/compute/cuda/repos/ubuntu1804/x86_64  Release.gpg [836 B]\n",
            "Get:15 http://ppa.launchpad.net/c2d4u.team/c2d4u4.0+/ubuntu bionic/main Sources [1,771 kB]\n",
            "Get:16 http://ppa.launchpad.net/c2d4u.team/c2d4u4.0+/ubuntu bionic/main amd64 Packages [906 kB]\n",
            "Get:17 https://cloud.r-project.org/bin/linux/ubuntu bionic-cran40/ Packages [61.8 kB]\n",
            "Get:18 http://archive.ubuntu.com/ubuntu bionic-updates/main amd64 Packages [2,619 kB]\n",
            "Get:19 http://archive.ubuntu.com/ubuntu bionic-updates/multiverse amd64 Packages [33.5 kB]\n",
            "Get:20 http://archive.ubuntu.com/ubuntu bionic-updates/universe amd64 Packages [2,185 kB]\n",
            "Get:21 http://archive.ubuntu.com/ubuntu bionic-updates/restricted amd64 Packages [481 kB]\n",
            "Get:22 http://ppa.launchpad.net/deadsnakes/ppa/ubuntu bionic/main amd64 Packages [40.9 kB]\n",
            "Get:23 http://ppa.launchpad.net/graphics-drivers/ppa/ubuntu bionic/main amd64 Packages [41.6 kB]\n",
            "Ign:25 https://developer.download.nvidia.com/compute/cuda/repos/ubuntu1804/x86_64  Packages\n",
            "Get:25 https://developer.download.nvidia.com/compute/cuda/repos/ubuntu1804/x86_64  Packages [800 kB]\n",
            "Get:26 http://security.ubuntu.com/ubuntu bionic-security/main amd64 Packages [2,185 kB]\n",
            "Get:27 http://security.ubuntu.com/ubuntu bionic-security/universe amd64 Packages [1,415 kB]\n",
            "Get:28 http://security.ubuntu.com/ubuntu bionic-security/restricted amd64 Packages [450 kB]\n",
            "Fetched 13.3 MB in 3s (4,719 kB/s)\n",
            "Reading package lists... Done\n"
          ],
          "name": "stdout"
        }
      ]
    },
    {
      "cell_type": "code",
      "metadata": {
        "id": "UvBT9obZWFoq"
      },
      "source": [
        "from pyspark.sql import SparkSession\n",
        "spark = SparkSession.builder.appName(\"BigData-Challenge\").config(\"spark.driver.extraClassPath\",\"/content/postgresql-42.2.16.jar\").getOrCreate()"
      ],
      "execution_count": 3,
      "outputs": []
    },
    {
      "cell_type": "code",
      "metadata": {
        "id": "CtCmBhQJY-9Z"
      },
      "source": [
        "from pyspark import SparkFiles\n",
        "url = \"https://s3.amazonaws.com/amazon-reviews-pds/tsv/amazon_reviews_us_Luggage_v1_00.tsv.gz\"\n",
        "spark.sparkContext.addFile(url)\n",
        "df = spark.read.option(\"encoding\", \"UTF-8\").csv(SparkFiles.get(\"amazon_reviews_us_Luggage_v1_00.tsv.gz\"), sep=\"\\t\", header=True, inferSchema=True)"
      ],
      "execution_count": 4,
      "outputs": []
    },
    {
      "cell_type": "code",
      "metadata": {
        "colab": {
          "base_uri": "https://localhost:8080/"
        },
        "id": "YlzCHdxNWEzk",
        "outputId": "8ec2e35a-2672-45da-e99d-f7669f1608ac"
      },
      "source": [
        "from pyspark.sql.functions import to_date\n",
        "# Read in the Review dataset as a DataFrame\n",
        "df.show()"
      ],
      "execution_count": 5,
      "outputs": [
        {
          "output_type": "stream",
          "text": [
            "+-----------+-----------+--------------+----------+--------------+--------------------+----------------+-----------+-------------+-----------+----+-----------------+--------------------+--------------------+-----------+\n",
            "|marketplace|customer_id|     review_id|product_id|product_parent|       product_title|product_category|star_rating|helpful_votes|total_votes|vine|verified_purchase|     review_headline|         review_body|review_date|\n",
            "+-----------+-----------+--------------+----------+--------------+--------------------+----------------+-----------+-------------+-----------+----+-----------------+--------------------+--------------------+-----------+\n",
            "|         US|   40884699| R9CO86UUJCAW5|B00VGTN02Y|     786681372|Teenage Mutant Ni...|         Luggage|          3|            0|          0|   N|                Y|my review of this...|my review of this...| 2015-08-31|\n",
            "|         US|   23208852|R3PR8X6QGVJ8B1|B005KIWL0E|     618251799|Kenneth Cole Reac...|         Luggage|          5|            0|          0|   N|                Y|          Five Stars|       Perfect size.| 2015-08-31|\n",
            "|         US|   17100246|R39BO2819ABUPF|B007UNSHJ6|     810480328|American Touriste...|         Luggage|          4|            0|          0|   N|                Y|            so good.|    So far, so good.| 2015-08-31|\n",
            "|         US|   13533670|R3ADL7V6EGGEEP|B00WHFNXB4|      20765193|15.5 Inch Purple ...|         Luggage|          4|            0|          0|   N|                Y|          Four Stars|seems nicely made...| 2015-08-31|\n",
            "|         US|   38541771|R1OXYPBPLVRMI5|B000M5NBYU|     812890709|Port & Company Zi...|         Luggage|          5|            0|          0|   N|                Y|           Dance Bag|Great bag for all...| 2015-08-31|\n",
            "|         US|   12686499|R1WYM8Z5ATQ98O|B00ACBJ89G|     624906499|J World New York ...|         Luggage|          3|            0|          0|   N|                Y|        TOO SMALL!!!|it´s nice BUT it´...| 2015-08-31|\n",
            "|         US|   27767206|R3LCIANTN1H9EC|B001H4BQ1A|     385044506|Voltage Valet Clo...|         Luggage|          4|            1|          1|   N|                Y|          Four Stars|It does the job b...| 2015-08-31|\n",
            "|         US|   46630606|R3U2M23N1P0KQ6|B00ESG6NDK|      51297652|Pro Packing Cubes...|         Luggage|          5|            0|          0|   N|                Y|          Five Stars|          Just fine.| 2015-08-31|\n",
            "|         US|   41622754|R29MB6N7HB6NZI|B00M14SAXC|     832113872|Girl's Dance Duff...|         Luggage|          1|            2|          2|   N|                Y|We were exited to...|We were exited to...| 2015-08-31|\n",
            "|         US|   15296380| RGEQ6DGRG7DQG|B012PC5QAY|     490793867|Disney Inside Out...|         Luggage|          5|            0|          0|   N|                Y|               cute!|Very nice and we'...| 2015-08-31|\n",
            "|         US|   21206415|R38HNH0BSS2KFE|B00VWKWWMG|     356411837|World Traveler 13...|         Luggage|          1|            1|          1|   N|                Y|            One Star|Brought it on vac...| 2015-08-31|\n",
            "|         US|   34554097|R2CATRM9CH59LY|B00N2U14UK|     326835930|Sherpani Trevia C...|         Luggage|          5|            4|          4|   N|                Y|A great bag for t...|I purchased this ...| 2015-08-31|\n",
            "|         US|   42252567|R18DMKNDPJ1BSN|B00K4F45CA|     954517686|Rockland Luggage ...|         Luggage|          5|            0|          1|   N|                Y|             Perfect|Love this light w...| 2015-08-31|\n",
            "|         US|    3532342| RZRSHBWXO3XUQ|B00U57FFA8|      98867907|Allant 16\" Padded...|         Luggage|          5|            0|          0|   N|                Y|it's durable and ...|Purchased this ba...| 2015-08-31|\n",
            "|         US|    7791634|R1BMTNSYCZY1NI|B00ROSRFQ8|     648371973|Polare Manly Real...|         Luggage|          3|            1|          1|   N|                Y|Strong well-made ...|I've had this bag...| 2015-08-31|\n",
            "|         US|    9911099| RPE2S0HZQ9EFP|B003ZV71BM|     406795103|American Flyer Lu...|         Luggage|          5|            0|          0|   N|                Y|          Five Stars|Love love love my...| 2015-08-31|\n",
            "|         US|   46124918|R2OOWJSFPDDA03|B00NJYB2JM|     255715129|Victoriatourist V...|         Luggage|          3|            0|          1|   N|                Y|         Three Stars|Smaller than expe...| 2015-08-31|\n",
            "|         US|     200537|R3EED64ZPXGZ92|B00LD0A4N4|     244117760|EcoCity Vintage C...|         Luggage|          3|            0|          0|   N|                Y|         Three Stars|Within the first ...| 2015-08-31|\n",
            "|         US|    1403856|R1BI8NF6YRH5HD|B00N5GVF6O|     626808161|Bolang Water Resi...|         Luggage|          5|            0|          0|   N|                Y|     Laptop backpack|Nice nice sturdy ...| 2015-08-31|\n",
            "|         US|    8201781| RUD7SDRQTAVMC|B00C75KZPQ|     176437087|Travelon Cosmetic...|         Luggage|          5|            0|          0|   N|                Y|           Fabulous!|Fabulous! Can use...| 2015-08-31|\n",
            "+-----------+-----------+--------------+----------+--------------+--------------------+----------------+-----------+-------------+-----------+----+-----------------+--------------------+--------------------+-----------+\n",
            "only showing top 20 rows\n",
            "\n"
          ],
          "name": "stdout"
        }
      ]
    },
    {
      "cell_type": "code",
      "metadata": {
        "id": "B0TESUDRY-90",
        "colab": {
          "base_uri": "https://localhost:8080/"
        },
        "outputId": "389053bc-c2b4-4aa9-f973-6cf632b0fdd6"
      },
      "source": [
        "filtered_df = df.filter(\"total_votes >= 20\")\n",
        "filtered_df.show()"
      ],
      "execution_count": 6,
      "outputs": [
        {
          "output_type": "stream",
          "text": [
            "+-----------+-----------+--------------+----------+--------------+--------------------+----------------+-----------+-------------+-----------+----+-----------------+--------------------+--------------------+-----------+\n",
            "|marketplace|customer_id|     review_id|product_id|product_parent|       product_title|product_category|star_rating|helpful_votes|total_votes|vine|verified_purchase|     review_headline|         review_body|review_date|\n",
            "+-----------+-----------+--------------+----------+--------------+--------------------+----------------+-----------+-------------+-----------+----+-----------------+--------------------+--------------------+-----------+\n",
            "|         US|   20761040|R11IBSD5E6HPSD|B002B3FWXY|     677901073|Travelon Anti-The...|         Luggage|          1|           29|         31|   N|                Y|This bag was on m...|The strap broke!!...| 2015-08-31|\n",
            "|         US|   12318409|R2KVWAYBPWK1OV|B011KEPZG8|     919734058|Iblue Canvas Leat...|         Luggage|          5|           20|         22|   N|                N|My boyfriend woul...|This review is fo...| 2015-08-31|\n",
            "|         US|   25513669|R1FLOE9E4ODIGR|B00VBDT55G|     995661027|Hynes Eagle Trave...|         Luggage|          5|           34|         38|   N|                Y|       It's perfect!|I'm just packing ...| 2015-08-31|\n",
            "|         US|   11235780| R6XTEZCSCUJ4J|B00SXKUEIC|      43152132|AmazonBasics 4 Pi...|         Luggage|          5|           20|         23|   N|                Y|I'm very pleased;...|My husband and I ...| 2015-08-31|\n",
            "|         US|   39789300|R2WVV9LQKIVMOX|B0143MYCKO|     689231091|Shacke Hidden Tra...|         Luggage|          5|           23|         23|   N|                N|Well-organized tr...|This travel pouch...| 2015-08-31|\n",
            "|         US|   18215579| RYIU6GIB4TYT2|B0013KGG7M|     795891549|eBags Medium Pack...|         Luggage|          5|           30|         30|   N|                N|             Success|I was skeptical a...| 2015-08-31|\n",
            "|         US|   32218323| RNXGKYVCJDDL7|B00MVVURAY|     717040416|Samsonite Mightli...|         Luggage|          5|           28|         28|   N|                Y|Bright and Brilli...|LOVE this bag.  T...| 2015-08-31|\n",
            "|         US|    3942987|R1E8V7J0K61754|B00T7CGTMK|     209035441|American Touriste...|         Luggage|          5|           18|         20|   N|                Y|My favourite piec...|This is an awesom...| 2015-08-31|\n",
            "|         US|   32467761| RK52L3B5733BH|B00CHSN59G|     419249340|Briggs & Riley To...|         Luggage|          5|           22|         22|   N|                N|Handsome Piece of...|One of the best b...| 2015-08-31|\n",
            "|         US|   11235780|R213PW7RSI6Z7N|B00SXKUCKC|     662980142|AmazonBasics 4-Pi...|         Luggage|          5|           48|         50|   N|                Y|Very pleased! Hig...|ONLY THING TO CHA...| 2015-08-31|\n",
            "|         US|   25042205| RUBBVNQCSYCDF|B00HB06TK2|     302479496|ECOSUSI Fashion G...|         Luggage|          5|           23|         24|   N|                Y|5 stars as it is ...|My girlfriend lov...| 2015-08-31|\n",
            "|         US|     114023|R3IU65JJME7XHN|B013PSJGOE|     246912840|Dwellbee Medium L...|         Luggage|          5|           25|         27|   N|                N|Perfect and class...|I like this bag a...| 2015-08-31|\n",
            "|         US|   41903386|R25UFG485PAY9U|B00WOJF9JW|     652081834|American Touriste...|         Luggage|          5|           21|         22|   N|                Y|Minnie is built t...|I thought after o...| 2015-08-30|\n",
            "|         US|   49975247|R3V2GWR8BL2801|B002E602C4|     626550759|Piel Leather Larg...|         Luggage|          5|           45|         46|   N|                Y|LOVE! Big Waist R...|I own many waist ...| 2015-08-30|\n",
            "|         US|   43765856|R3ORL5J14E2IV7|B00CPSWD8C|     677901073|Travelon Anti-The...|         Luggage|          5|           27|         28|   N|                Y|Great for travel ...|Got this bag afte...| 2015-08-30|\n",
            "|         US|   23910216|R3KMWBKK1ZWL0I|B00XC6068U|     813755132|Tumi Alpha Bravo ...|         Luggage|          5|           20|         23|   N|                Y|Tumi Backpack if ...|Incredible.  Tumi...| 2015-08-30|\n",
            "|         US|   25659538|R33FFKFYFU92PR|B00M7BGYLO|     446700022|26\" Men's Genuine...|         Luggage|          1|           35|         48|   N|                Y|When this bag arr...|When this bag arr...| 2015-08-30|\n",
            "|         US|    9581789|R2IOC5X92Y742K|B00MQEVGK6|     265236657|Delsey Luggage He...|         Luggage|          3|           36|         40|   N|                N|It's the perfect ...|Honestly, I would...| 2015-08-29|\n",
            "|         US|   50237845|R2YGCTPT3TH9N8|B00QNAJ4MQ|     843737466|Mosey by Baggalli...|         Luggage|          1|           19|         22|   N|                Y|good for giving o...|Wearing a purse a...| 2015-08-29|\n",
            "|         US|   28553148|R2Q3HCPXG31PH1|B00SXKUKK4|     155786156|AmazonBasics 4-Pi...|         Luggage|          1|            1|         20|   N|                Y|Picture misleadin...|Picture misleadin...| 2015-08-29|\n",
            "+-----------+-----------+--------------+----------+--------------+--------------------+----------------+-----------+-------------+-----------+----+-----------------+--------------------+--------------------+-----------+\n",
            "only showing top 20 rows\n",
            "\n"
          ],
          "name": "stdout"
        }
      ]
    },
    {
      "cell_type": "code",
      "metadata": {
        "colab": {
          "base_uri": "https://localhost:8080/"
        },
        "id": "VLr9Bv7lYMkB",
        "outputId": "ee9b4de8-1b11-447b-f1c6-d36c73312267"
      },
      "source": [
        "filtered_df2 = filtered_df.filter(\"helpful_votes / total_votes >= 0.5\")\n",
        "filtered_df2.show()"
      ],
      "execution_count": 7,
      "outputs": [
        {
          "output_type": "stream",
          "text": [
            "+-----------+-----------+--------------+----------+--------------+--------------------+----------------+-----------+-------------+-----------+----+-----------------+--------------------+--------------------+-----------+\n",
            "|marketplace|customer_id|     review_id|product_id|product_parent|       product_title|product_category|star_rating|helpful_votes|total_votes|vine|verified_purchase|     review_headline|         review_body|review_date|\n",
            "+-----------+-----------+--------------+----------+--------------+--------------------+----------------+-----------+-------------+-----------+----+-----------------+--------------------+--------------------+-----------+\n",
            "|         US|   20761040|R11IBSD5E6HPSD|B002B3FWXY|     677901073|Travelon Anti-The...|         Luggage|          1|           29|         31|   N|                Y|This bag was on m...|The strap broke!!...| 2015-08-31|\n",
            "|         US|   12318409|R2KVWAYBPWK1OV|B011KEPZG8|     919734058|Iblue Canvas Leat...|         Luggage|          5|           20|         22|   N|                N|My boyfriend woul...|This review is fo...| 2015-08-31|\n",
            "|         US|   25513669|R1FLOE9E4ODIGR|B00VBDT55G|     995661027|Hynes Eagle Trave...|         Luggage|          5|           34|         38|   N|                Y|       It's perfect!|I'm just packing ...| 2015-08-31|\n",
            "|         US|   11235780| R6XTEZCSCUJ4J|B00SXKUEIC|      43152132|AmazonBasics 4 Pi...|         Luggage|          5|           20|         23|   N|                Y|I'm very pleased;...|My husband and I ...| 2015-08-31|\n",
            "|         US|   39789300|R2WVV9LQKIVMOX|B0143MYCKO|     689231091|Shacke Hidden Tra...|         Luggage|          5|           23|         23|   N|                N|Well-organized tr...|This travel pouch...| 2015-08-31|\n",
            "|         US|   18215579| RYIU6GIB4TYT2|B0013KGG7M|     795891549|eBags Medium Pack...|         Luggage|          5|           30|         30|   N|                N|             Success|I was skeptical a...| 2015-08-31|\n",
            "|         US|   32218323| RNXGKYVCJDDL7|B00MVVURAY|     717040416|Samsonite Mightli...|         Luggage|          5|           28|         28|   N|                Y|Bright and Brilli...|LOVE this bag.  T...| 2015-08-31|\n",
            "|         US|    3942987|R1E8V7J0K61754|B00T7CGTMK|     209035441|American Touriste...|         Luggage|          5|           18|         20|   N|                Y|My favourite piec...|This is an awesom...| 2015-08-31|\n",
            "|         US|   32467761| RK52L3B5733BH|B00CHSN59G|     419249340|Briggs & Riley To...|         Luggage|          5|           22|         22|   N|                N|Handsome Piece of...|One of the best b...| 2015-08-31|\n",
            "|         US|   11235780|R213PW7RSI6Z7N|B00SXKUCKC|     662980142|AmazonBasics 4-Pi...|         Luggage|          5|           48|         50|   N|                Y|Very pleased! Hig...|ONLY THING TO CHA...| 2015-08-31|\n",
            "|         US|   25042205| RUBBVNQCSYCDF|B00HB06TK2|     302479496|ECOSUSI Fashion G...|         Luggage|          5|           23|         24|   N|                Y|5 stars as it is ...|My girlfriend lov...| 2015-08-31|\n",
            "|         US|     114023|R3IU65JJME7XHN|B013PSJGOE|     246912840|Dwellbee Medium L...|         Luggage|          5|           25|         27|   N|                N|Perfect and class...|I like this bag a...| 2015-08-31|\n",
            "|         US|   41903386|R25UFG485PAY9U|B00WOJF9JW|     652081834|American Touriste...|         Luggage|          5|           21|         22|   N|                Y|Minnie is built t...|I thought after o...| 2015-08-30|\n",
            "|         US|   49975247|R3V2GWR8BL2801|B002E602C4|     626550759|Piel Leather Larg...|         Luggage|          5|           45|         46|   N|                Y|LOVE! Big Waist R...|I own many waist ...| 2015-08-30|\n",
            "|         US|   43765856|R3ORL5J14E2IV7|B00CPSWD8C|     677901073|Travelon Anti-The...|         Luggage|          5|           27|         28|   N|                Y|Great for travel ...|Got this bag afte...| 2015-08-30|\n",
            "|         US|   23910216|R3KMWBKK1ZWL0I|B00XC6068U|     813755132|Tumi Alpha Bravo ...|         Luggage|          5|           20|         23|   N|                Y|Tumi Backpack if ...|Incredible.  Tumi...| 2015-08-30|\n",
            "|         US|   25659538|R33FFKFYFU92PR|B00M7BGYLO|     446700022|26\" Men's Genuine...|         Luggage|          1|           35|         48|   N|                Y|When this bag arr...|When this bag arr...| 2015-08-30|\n",
            "|         US|    9581789|R2IOC5X92Y742K|B00MQEVGK6|     265236657|Delsey Luggage He...|         Luggage|          3|           36|         40|   N|                N|It's the perfect ...|Honestly, I would...| 2015-08-29|\n",
            "|         US|   50237845|R2YGCTPT3TH9N8|B00QNAJ4MQ|     843737466|Mosey by Baggalli...|         Luggage|          1|           19|         22|   N|                Y|good for giving o...|Wearing a purse a...| 2015-08-29|\n",
            "|         US|   16703363| RL5BOYS5UR4HR|B00C2OEKSK|     900837996|Olympia Luggage C...|         Luggage|          5|           25|         25|   N|                Y|but I wanted some...|I researched many...| 2015-08-29|\n",
            "+-----------+-----------+--------------+----------+--------------+--------------------+----------------+-----------+-------------+-----------+----+-----------------+--------------------+--------------------+-----------+\n",
            "only showing top 20 rows\n",
            "\n"
          ],
          "name": "stdout"
        }
      ]
    },
    {
      "cell_type": "code",
      "metadata": {
        "id": "96HSC460eVoz"
      },
      "source": [
        ""
      ],
      "execution_count": null,
      "outputs": []
    },
    {
      "cell_type": "code",
      "metadata": {
        "colab": {
          "base_uri": "https://localhost:8080/"
        },
        "id": "6-FsqECXaeBC",
        "outputId": "ccfd443a-ebb5-458d-9716-2355c524d0d2"
      },
      "source": [
        "filtered_dfY = filtered_df2.filter(\"vine == 'Y'\")\n",
        "filtered_dfY.show()"
      ],
      "execution_count": 11,
      "outputs": [
        {
          "output_type": "stream",
          "text": [
            "+-----------+-----------+--------------+----------+--------------+--------------------+----------------+-----------+-------------+-----------+----+-----------------+--------------------+--------------------+-----------+\n",
            "|marketplace|customer_id|     review_id|product_id|product_parent|       product_title|product_category|star_rating|helpful_votes|total_votes|vine|verified_purchase|     review_headline|         review_body|review_date|\n",
            "+-----------+-----------+--------------+----------+--------------+--------------------+----------------+-----------+-------------+-----------+----+-----------------+--------------------+--------------------+-----------+\n",
            "|         US|   15225359| RPJ7C4HP3BHXN|B00JR4A83O|     603403193|Fossil Men's Esta...|         Luggage|          5|           25|         29|   Y|                N|Beautiful Leather...|This Fossil bag i...| 2015-08-01|\n",
            "|         US|   53064080|R3SB08XK0M7993|B00SXKUIX8|     905946428|AmazonBasics 4-Pi...|         Luggage|          4|           44|         49|   Y|                N|Nice, basic packi...|I'm a frequent tr...| 2015-07-29|\n",
            "|         US|   43748492|R26X1DACMCN3YF|B00SXKUGHG|     263022671|AmazonBasics 4-Pi...|         Luggage|          3|           16|         21|   Y|                N|VERY small bag: F...|This 4-piece set ...| 2015-07-08|\n",
            "|         US|   52833354|R17HKKDE9ZRVOO|B00SXKUIX8|     905946428|AmazonBasics 4-Pi...|         Luggage|          4|           31|         35|   Y|                N|Good quality, com...|These are very si...| 2015-06-27|\n",
            "|         US|   48691229|R1R7GNSCMO8U7I|B00SXKUIX8|     905946428|AmazonBasics 4-Pi...|         Luggage|          4|           24|         28|   Y|                N|Does the job savi...|I like that Amazo...| 2015-06-26|\n",
            "|         US|   42361759|R2T83WIPG3IX5D|B00SXKU5LI|     803599430|AmazonBasics 4-Pi...|         Luggage|          4|           72|         76|   Y|                N|Nice Product...Bu...|If you are not us...| 2015-06-23|\n",
            "|         US|   14530113| RD006IWFCUA5A|B00SXKU5LI|     803599430|AmazonBasics 4-Pi...|         Luggage|          5|          122|        133|   Y|                N|Packing cubes are...|I am a master pac...| 2015-06-15|\n",
            "|         US|   19812610| REOQCBUVUPXP1|B00MWWQ364|     468963231|Briggs & Riley Tr...|         Luggage|          4|           23|         27|   Y|                N|A well designed b...|I picked this sui...| 2015-05-04|\n",
            "|         US|   49505794|R2336R80ZEOKTX|B00F3Z85IG|     275644753|Eagle Creek Pack-...|         Luggage|          5|           63|         63|   Y|                N|Check out my phot...|A few other peopl...| 2015-05-02|\n",
            "|         US|   51401810| RC1ZXE5GVL9TA|B00F9S81KY|     222866833|Eagle Creek Pack-...|         Luggage|          4|           20|         23|   Y|                N|Some meaningful u...|The single best t...| 2015-05-02|\n",
            "|         US|   41723046|R2J7WSJ8EX3D5S|B00JU927I0|     537716655|Hartmann Vigor Ca...|         Luggage|          5|           30|         32|   Y|                N|Surprisingly ligh...|I travel 2-3 week...| 2015-05-01|\n",
            "|         US|   36857565|R2QSLH5GY4OMNH|B00F9S8RHG|     809537937|Eagle Creek Pack-...|         Luggage|          5|           44|         45|   Y|                N|     Travel in style|PROS: - Facilitat...| 2015-04-29|\n",
            "|         US|   41467824|R2A0F7MYQGBPEG|B00MWWQ364|     468963231|Briggs & Riley Tr...|         Luggage|          4|           33|         40|   Y|                N|      Great Carry-On|The majority of m...| 2015-04-27|\n",
            "|         US|   47770260| R140DK42LYQWL|B00F9S87SA|      62553277|Eagle Creek Pack-...|         Luggage|          4|           62|         65|   Y|                N|Well made, I like...|As a teacher I us...| 2015-04-24|\n",
            "|         US|   52532594|R3HJAGVD491IFV|B00F3Z886U|      84460150|Eagle Creek Pack-...|         Luggage|          5|          105|        105|   Y|                N|     I'm a believer.|I didn't believe ...| 2015-04-23|\n",
            "|         US|   34773146|R2N6KZ8A8T26IR|B00L3NPCBA|     247681464|Briggs & Riley BR...|         Luggage|          1|           24|         26|   Y|                N|Cheap materials a...|I've owned backpa...| 2015-04-20|\n",
            "|         US|   14883720|R2AUGMTZKSPJST|B00MWWQ364|     468963231|Briggs & Riley Tr...|         Luggage|          5|           19|         21|   Y|                N|     Perfect for me!|Perfect for me.  ...| 2015-04-15|\n",
            "|         US|   52532594|R1C3PCFS00UHBA|B00PSQ94NU|     843318781|Solo Ludlow 11 In...|         Luggage|          5|           25|         26|   Y|                N|Attractive case, ...|Very stylish bag,...| 2015-01-17|\n",
            "|         US|   51958405| RY1C7QLDFKZPG|B00K4R1VRA|     434431436|Sherpani Esprit S...|         Luggage|          5|           26|         26|   Y|                N|Versatile, Well M...|I have used a var...| 2014-09-04|\n",
            "|         US|   52928084| R1O5J8O83PI4Q|B00HFRZQCI|     593044203|Sherpani Spirit Y...|         Luggage|          4|           24|         24|   Y|                N|Despite a Few Gri...|First, let me poi...| 2014-07-18|\n",
            "+-----------+-----------+--------------+----------+--------------+--------------------+----------------+-----------+-------------+-----------+----+-----------------+--------------------+--------------------+-----------+\n",
            "only showing top 20 rows\n",
            "\n"
          ],
          "name": "stdout"
        }
      ]
    },
    {
      "cell_type": "code",
      "metadata": {
        "colab": {
          "base_uri": "https://localhost:8080/"
        },
        "id": "FzpLgKroa-Ga",
        "outputId": "0587b61b-f898-4de2-e71d-e8448d4ace6e"
      },
      "source": [
        "filtered_dfN = filtered_df2.filter(\"vine == 'N'\")\n",
        "filtered_dfN.show()"
      ],
      "execution_count": 12,
      "outputs": [
        {
          "output_type": "stream",
          "text": [
            "+-----------+-----------+--------------+----------+--------------+--------------------+----------------+-----------+-------------+-----------+----+-----------------+--------------------+--------------------+-----------+\n",
            "|marketplace|customer_id|     review_id|product_id|product_parent|       product_title|product_category|star_rating|helpful_votes|total_votes|vine|verified_purchase|     review_headline|         review_body|review_date|\n",
            "+-----------+-----------+--------------+----------+--------------+--------------------+----------------+-----------+-------------+-----------+----+-----------------+--------------------+--------------------+-----------+\n",
            "|         US|   20761040|R11IBSD5E6HPSD|B002B3FWXY|     677901073|Travelon Anti-The...|         Luggage|          1|           29|         31|   N|                Y|This bag was on m...|The strap broke!!...| 2015-08-31|\n",
            "|         US|   12318409|R2KVWAYBPWK1OV|B011KEPZG8|     919734058|Iblue Canvas Leat...|         Luggage|          5|           20|         22|   N|                N|My boyfriend woul...|This review is fo...| 2015-08-31|\n",
            "|         US|   25513669|R1FLOE9E4ODIGR|B00VBDT55G|     995661027|Hynes Eagle Trave...|         Luggage|          5|           34|         38|   N|                Y|       It's perfect!|I'm just packing ...| 2015-08-31|\n",
            "|         US|   11235780| R6XTEZCSCUJ4J|B00SXKUEIC|      43152132|AmazonBasics 4 Pi...|         Luggage|          5|           20|         23|   N|                Y|I'm very pleased;...|My husband and I ...| 2015-08-31|\n",
            "|         US|   39789300|R2WVV9LQKIVMOX|B0143MYCKO|     689231091|Shacke Hidden Tra...|         Luggage|          5|           23|         23|   N|                N|Well-organized tr...|This travel pouch...| 2015-08-31|\n",
            "|         US|   18215579| RYIU6GIB4TYT2|B0013KGG7M|     795891549|eBags Medium Pack...|         Luggage|          5|           30|         30|   N|                N|             Success|I was skeptical a...| 2015-08-31|\n",
            "|         US|   32218323| RNXGKYVCJDDL7|B00MVVURAY|     717040416|Samsonite Mightli...|         Luggage|          5|           28|         28|   N|                Y|Bright and Brilli...|LOVE this bag.  T...| 2015-08-31|\n",
            "|         US|    3942987|R1E8V7J0K61754|B00T7CGTMK|     209035441|American Touriste...|         Luggage|          5|           18|         20|   N|                Y|My favourite piec...|This is an awesom...| 2015-08-31|\n",
            "|         US|   32467761| RK52L3B5733BH|B00CHSN59G|     419249340|Briggs & Riley To...|         Luggage|          5|           22|         22|   N|                N|Handsome Piece of...|One of the best b...| 2015-08-31|\n",
            "|         US|   11235780|R213PW7RSI6Z7N|B00SXKUCKC|     662980142|AmazonBasics 4-Pi...|         Luggage|          5|           48|         50|   N|                Y|Very pleased! Hig...|ONLY THING TO CHA...| 2015-08-31|\n",
            "|         US|   25042205| RUBBVNQCSYCDF|B00HB06TK2|     302479496|ECOSUSI Fashion G...|         Luggage|          5|           23|         24|   N|                Y|5 stars as it is ...|My girlfriend lov...| 2015-08-31|\n",
            "|         US|     114023|R3IU65JJME7XHN|B013PSJGOE|     246912840|Dwellbee Medium L...|         Luggage|          5|           25|         27|   N|                N|Perfect and class...|I like this bag a...| 2015-08-31|\n",
            "|         US|   41903386|R25UFG485PAY9U|B00WOJF9JW|     652081834|American Touriste...|         Luggage|          5|           21|         22|   N|                Y|Minnie is built t...|I thought after o...| 2015-08-30|\n",
            "|         US|   49975247|R3V2GWR8BL2801|B002E602C4|     626550759|Piel Leather Larg...|         Luggage|          5|           45|         46|   N|                Y|LOVE! Big Waist R...|I own many waist ...| 2015-08-30|\n",
            "|         US|   43765856|R3ORL5J14E2IV7|B00CPSWD8C|     677901073|Travelon Anti-The...|         Luggage|          5|           27|         28|   N|                Y|Great for travel ...|Got this bag afte...| 2015-08-30|\n",
            "|         US|   23910216|R3KMWBKK1ZWL0I|B00XC6068U|     813755132|Tumi Alpha Bravo ...|         Luggage|          5|           20|         23|   N|                Y|Tumi Backpack if ...|Incredible.  Tumi...| 2015-08-30|\n",
            "|         US|   25659538|R33FFKFYFU92PR|B00M7BGYLO|     446700022|26\" Men's Genuine...|         Luggage|          1|           35|         48|   N|                Y|When this bag arr...|When this bag arr...| 2015-08-30|\n",
            "|         US|    9581789|R2IOC5X92Y742K|B00MQEVGK6|     265236657|Delsey Luggage He...|         Luggage|          3|           36|         40|   N|                N|It's the perfect ...|Honestly, I would...| 2015-08-29|\n",
            "|         US|   50237845|R2YGCTPT3TH9N8|B00QNAJ4MQ|     843737466|Mosey by Baggalli...|         Luggage|          1|           19|         22|   N|                Y|good for giving o...|Wearing a purse a...| 2015-08-29|\n",
            "|         US|   16703363| RL5BOYS5UR4HR|B00C2OEKSK|     900837996|Olympia Luggage C...|         Luggage|          5|           25|         25|   N|                Y|but I wanted some...|I researched many...| 2015-08-29|\n",
            "+-----------+-----------+--------------+----------+--------------+--------------------+----------------+-----------+-------------+-----------+----+-----------------+--------------------+--------------------+-----------+\n",
            "only showing top 20 rows\n",
            "\n"
          ],
          "name": "stdout"
        }
      ]
    },
    {
      "cell_type": "code",
      "metadata": {
        "colab": {
          "base_uri": "https://localhost:8080/"
        },
        "id": "68wnSCujbOoc",
        "outputId": "afd7f4b7-707f-440c-bf32-64377b8d3cf7"
      },
      "source": [
        "# % of 5 Star \"Y\" Vine reviews\n",
        "\n",
        "vine_y_total = filtered_dfY.count()\n",
        "\n",
        "vine_y_5star = filtered_dfY.filter(\"star_rating = 5\").count()\n",
        "\n",
        "vine_y_5star / vine_y_total"
      ],
      "execution_count": 37,
      "outputs": [
        {
          "output_type": "execute_result",
          "data": {
            "text/plain": [
              "0.47619047619047616"
            ]
          },
          "metadata": {
            "tags": []
          },
          "execution_count": 37
        }
      ]
    },
    {
      "cell_type": "code",
      "metadata": {
        "colab": {
          "base_uri": "https://localhost:8080/"
        },
        "id": "Fg3fkG6pjzJK",
        "outputId": "9e3a5b45-75fb-4ea8-feb9-72eebcd7748f"
      },
      "source": [
        "# % of 5 Star \"N\" Vine reviews\n",
        "\n",
        "vine_n_total = filtered_dfN.count()\n",
        "\n",
        "vine_n_5star = filtered_dfN.filter(\"star_rating = 5\").count()\n",
        "\n",
        "vine_n_5star / vine_n_total"
      ],
      "execution_count": 38,
      "outputs": [
        {
          "output_type": "execute_result",
          "data": {
            "text/plain": [
              "0.5153961136023917"
            ]
          },
          "metadata": {
            "tags": []
          },
          "execution_count": 38
        }
      ]
    }
  ]
}